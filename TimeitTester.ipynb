{
 "cells": [
  {
   "cell_type": "markdown",
   "metadata": {},
   "source": [
    "In [1]: %timeit pass\n",
    "10000000 loops, best of 3: 53.3 ns per loop\n",
    "\n",
    "In [2]: u = None\n",
    "\n",
    "In [3]: %timeit u is None\n",
    "10000000 loops, best of 3: 184 ns per loop\n",
    "\n",
    "In [4]: %timeit -r 4 u == None\n",
    "1000000 loops, best of 4: 242 ns per loop\n",
    "\n",
    "In [5]: import time\n",
    "\n",
    "In [6]: %timeit -n1 time.sleep(2)\n",
    "1 loops, best of 3: 2 s per loop"
   ]
  },
  {
   "cell_type": "code",
   "execution_count": 7,
   "metadata": {},
   "outputs": [
    {
     "name": "stdout",
     "output_type": "stream",
     "text": [
      "19.7 ns ± 3.31 ns per loop (mean ± std. dev. of 7 runs, 100000000 loops each)\n"
     ]
    }
   ],
   "source": [
    "import time\n",
    "%timeit pass\n"
   ]
  }
 ],
 "metadata": {
  "kernelspec": {
   "display_name": "Python 3",
   "language": "python",
   "name": "python3"
  },
  "language_info": {
   "codemirror_mode": {
    "name": "ipython",
    "version": 3
   },
   "file_extension": ".py",
   "mimetype": "text/x-python",
   "name": "python",
   "nbconvert_exporter": "python",
   "pygments_lexer": "ipython3",
   "version": "3.6.2"
  }
 },
 "nbformat": 4,
 "nbformat_minor": 2
}
