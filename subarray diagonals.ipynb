{
 "cells": [
  {
   "cell_type": "code",
   "execution_count": 19,
   "metadata": {},
   "outputs": [
    {
     "name": "stdout",
     "output_type": "stream",
     "text": [
      "[[ 0  1  2  3  4]\n",
      " [ 5  6  7  8  9]\n",
      " [10 11 12 13 14]\n",
      " [15 16 17 18 19]\n",
      " [20 21 22 23 24]]\n",
      "\n",
      "\n",
      "[[105   6   7   8]\n",
      " [ 10 111  12  13]\n",
      " [ 15  16 117  18]\n",
      " [ 20  21  22 123]]\n",
      "\n",
      "\n",
      "[[  0   1   2   3   4]\n",
      " [105   6   7   8   9]\n",
      " [ 10 111  12  13  14]\n",
      " [ 15  16 117  18  19]\n",
      " [ 20  21  22 123  24]]\n"
     ]
    }
   ],
   "source": [
    "import numpy as np\n",
    "\n",
    "edge = 5\n",
    "my_range = edge**2\n",
    "\n",
    "ray = np.arange(my_range).reshape(edge, edge)\n",
    "print(ray)\n",
    "print('\\n')\n",
    "\n",
    "'''\n",
    "subr = ray[1:,0:-1]\n",
    "print(subr)\n",
    "print('\\n')\n",
    "'''\n",
    "\n",
    "k = -1\n",
    "\n",
    "if (k < 0):\n",
    "    subr =(ray[abs(k):, 0:k])\n",
    "    subr[np.diag_indices_from(subr)] -= 100\n",
    "    print(subr)\n",
    "    print('\\n')\n",
    "\n",
    "\n",
    "elif(k > 0):\n",
    "    subr = ray [0: -k, k: ]\n",
    "    print(subr)\n",
    "    subr[np.diag_indices_from(subr)] +=100\n",
    "    print(subr)\n",
    "    print('\\n')\n",
    "    \n",
    "else:\n",
    "    ray[np.diag_indices_from(ray)] += 200\n",
    "    \n",
    "print(ray)\n",
    "        \n",
    "\n"
   ]
  },
  {
   "cell_type": "code",
   "execution_count": null,
   "metadata": {
    "collapsed": true
   },
   "outputs": [],
   "source": []
  }
 ],
 "metadata": {
  "kernelspec": {
   "display_name": "Python 3",
   "language": "python",
   "name": "python3"
  },
  "language_info": {
   "codemirror_mode": {
    "name": "ipython",
    "version": 3
   },
   "file_extension": ".py",
   "mimetype": "text/x-python",
   "name": "python",
   "nbconvert_exporter": "python",
   "pygments_lexer": "ipython3",
   "version": "3.6.2"
  }
 },
 "nbformat": 4,
 "nbformat_minor": 2
}
